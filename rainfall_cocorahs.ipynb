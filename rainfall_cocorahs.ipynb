{
 "cells": [
  {
   "cell_type": "markdown",
   "metadata": {},
   "source": [
    "# Wrangling and Visualizing Rain Guage Data from the Community Collaborative Rain Hail and Snow Network (CoCoRaHS)"
   ]
  },
  {
   "cell_type": "markdown",
   "metadata": {},
   "source": [
    "[CoCoRAHS](https://www.cocorahs.org) is a network of volunteer precipitation observers that covers the US and Canada. Observers report in daily precipitation totals every day at 7 AM or extreme events such as hail or heavy rain over a short period of time. The data is used by groups such as the National Oceanic and Atmospheric Administration and National Weather Service for forecast decision making and research"
   ]
  },
  {
   "cell_type": "markdown",
   "metadata": {},
   "source": [
    "Back in high school I was an observer in this network and took various observations. However the website for viewing data and submitting observations was severely limited, and only gave relatively basic options on how to view the data and to download data that could be formatted into software like Microsoft Excel. This was extremely frustating as I always wanted to explore the data I was gather in further depth to find additional trends that weren't displayed or provided by the CoCoRAHs site."
   ]
  },
  {
   "cell_type": "markdown",
   "metadata": {},
   "source": [
    "## Enter Python & Data Science"
   ]
  },
  {
   "cell_type": "markdown",
   "metadata": {},
   "source": [
    "After working in university and industry, I learned that both the Data Science & Data Analysis process alongside _Python_ can be used to both gather CoCoRaHS data into a format that can be more flexibly analyzed and create the visualizations that I've was always wanted to make for CoCoRaHS data. The following notebook is designed to show those techniques and make them accessible to the borader data science community."
   ]
  },
  {
   "cell_type": "markdown",
   "metadata": {},
   "source": [
    "## Downloading the Data"
   ]
  },
  {
   "cell_type": "code",
   "execution_count": null,
   "metadata": {},
   "outputs": [],
   "source": []
  }
 ],
 "metadata": {
  "kernelspec": {
   "display_name": "Python 3",
   "language": "python",
   "name": "python3"
  },
  "language_info": {
   "codemirror_mode": {
    "name": "ipython",
    "version": 3
   },
   "file_extension": ".py",
   "mimetype": "text/x-python",
   "name": "python",
   "nbconvert_exporter": "python",
   "pygments_lexer": "ipython3",
   "version": "3.6.3"
  }
 },
 "nbformat": 4,
 "nbformat_minor": 2
}
